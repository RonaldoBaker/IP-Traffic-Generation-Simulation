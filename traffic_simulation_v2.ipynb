{
 "cells": [
  {
   "cell_type": "markdown",
   "id": "702494fa",
   "metadata": {},
   "source": [
    "**NOTE (09/02/24):** Just trying to put together the body of the simulation to make it work. Aiming to use Averill and Law's architecture of what a simulation looks like.\n",
    "\n",
    "\n",
    "**NOTE (11/02/2024)What is different in version 2:** \n",
    "* Going to try and increase the number of flows going through the network from 1 to maybe 50. - Can get up to 9500 before the data limit in Jupyter is reached\n",
    "* Going to implement a reporting function to collect data in each execution of the while loop. - DONE\n",
    "* work on the departure event code in the event routine - not necessary\n",
    "* work on the dictionary key problem with the key values - cannot think of a cleaner solution\n",
    "* just work on cleaning up the code, making sure I have scoped all variables accordingly - not worrying too much about right now\n",
    "\n",
    "**NOTE (13/02/2024):** \n",
    "* Need to work on generating future events within the events routine and not just in the initialisation routine."
   ]
  },
  {
   "cell_type": "markdown",
   "id": "4f0f7313",
   "metadata": {},
   "source": [
    "## Import dependencies"
   ]
  },
  {
   "cell_type": "code",
   "execution_count": 205,
   "id": "9e40f79d",
   "metadata": {
    "tags": []
   },
   "outputs": [],
   "source": [
    "import networkx as nx\n",
    "import torch\n",
    "import torch.nn as nn\n",
    "import random\n",
    "import time\n",
    "import uuid\n",
    "import bisect\n",
    "import operator"
   ]
  },
  {
   "cell_type": "markdown",
   "id": "27076846",
   "metadata": {},
   "source": [
    "## Constants and data containers"
   ]
  },
  {
   "cell_type": "code",
   "execution_count": 206,
   "id": "6e7ab6eb",
   "metadata": {
    "tags": []
   },
   "outputs": [],
   "source": [
    "# Generation\n",
    "GENERATOR = None\n",
    "PATH = \"generator_2.pt\"\n",
    "DEVICE = torch.device(\"cuda\" if torch.cuda.is_available() else \"cpu\")\n",
    "RANDOM_SEED = 77\n",
    "\n",
    "# Network & Flows\n",
    "NETWORK = None\n",
    "BLOCKED = None # count of flows blocked\n",
    "SENT = None # count of flows that reached their destination\n",
    "ADDRESSES = [i for i in range(1,22)]\n",
    "WAVELENGTHS = 40\n",
    "\n",
    "# Simulation\n",
    "SIM_CLOCK = None \n",
    "MIN_FLOWS_SENT = 1e7\n",
    "EVENTS_LIST = None\n",
    "\n",
    "##completed_flows = []\n",
    "#blocked_flows = []"
   ]
  },
  {
   "cell_type": "markdown",
   "id": "ef3fcd5e",
   "metadata": {},
   "source": [
    "## Classes"
   ]
  },
  {
   "cell_type": "code",
   "execution_count": 207,
   "id": "55787249",
   "metadata": {
    "tags": []
   },
   "outputs": [],
   "source": [
    "class Generator(nn.Module):\n",
    "    def __init__(self):\n",
    "        super().__init__()\n",
    "        self.model = nn.Sequential(\n",
    "            nn.Linear(2, 16),\n",
    "            nn.ReLU(),\n",
    "            nn.Linear(16, 32),\n",
    "            nn.ReLU(),\n",
    "            nn.Linear(32, 2),\n",
    "        )\n",
    "\n",
    "    def forward(self, x):\n",
    "        output = self.model(x)\n",
    "        return output"
   ]
  },
  {
   "cell_type": "code",
   "execution_count": 208,
   "id": "ebe92ea8",
   "metadata": {
    "tags": []
   },
   "outputs": [],
   "source": [
    "class Network:\n",
    "    def __init__(self, graph, num_of_wavelengths):\n",
    "        self.topology = graph\n",
    "        self.__allocate_capacity__(num_of_wavelengths)\n",
    "    \n",
    "    \n",
    "    def __allocate_capacity__(self, num_of_wavelengths):\n",
    "        self.links = dict()\n",
    "        for edge in self.topology.edges():\n",
    "            node1, node2 = edge[0], edge[1] \n",
    "            self.links[(node1, node2)] = num_of_wavelengths \n",
    "       \n",
    "    \n",
    "    def __check_capacity__(self, node1, node2): \n",
    "        # NOTE: Need to add some exception handling because the node pair for the next hop may not correspond with the dictionary of links\n",
    "        # instead will try it in the correct order, else just switch the arguments around\n",
    "        try:\n",
    "            return self.links[(node1, node2)] > 0\n",
    "        except KeyError:\n",
    "            return self.links[(node2, node1)] > 0\n",
    "    \n",
    "    \n",
    "    def __use_capacity__(self, node1, node2):\n",
    "        try: \n",
    "            self.links[(node1, node2)] -= 1\n",
    "        except KeyError:\n",
    "            self.links[(node2, node1)] -= 1\n",
    "\n",
    "            \n",
    "    def __release_capacity__(self, node1, node2):\n",
    "        try:   \n",
    "            self.links[(node1, node2)] += 1\n",
    "        except KeyError:\n",
    "            try:\n",
    "                self.links[(node2, node1)] += 1\n",
    "            except KeyError: # One of the nodes must be None\n",
    "                pass # there is no link to release capacity for\n",
    "                \n",
    "        \n",
    "        \n",
    "    def push_flow(self, flow, type, node1, node2):\n",
    "        # global BLOCKED\n",
    "        if type == \"HOP\":\n",
    "            self.__release_capacity__(flow.prev_node, flow.current_node)\n",
    "            \n",
    "        sufficient_capacity = self.__check_capacity__(node1, node2)\n",
    "        if sufficient_capacity:\n",
    "            self.__use_capacity__(node1, node2)\n",
    "            next_event_type = flow.hop()\n",
    "            return next_event_type, flow \n",
    "        else:\n",
    "            # print out that Flow ID# has been blocked\n",
    "            # BLOCKED += 1\n",
    "            next_event_type = \"BLOCKED\"\n",
    "            return next_event_type, flow\n",
    "            \n",
    "    def end_flow(self, flow, node1, node2):\n",
    "        self.__release_capacity__(node1, node2)\n",
    "        # print(f\"Sim Clock: {SIM_CLOCK} seconds | Flow {flow.ID} has reached its destination, node {flow.dst}. Now leaving the network...\")\n",
    "\n",
    "\n",
    "    def find_route(self, src, dst):\n",
    "        return nx.shortest_path(self.topology, source = src, target = dst)\n",
    "    "
   ]
  },
  {
   "cell_type": "code",
   "execution_count": 209,
   "id": "f8537a11",
   "metadata": {
    "tags": []
   },
   "outputs": [],
   "source": [
    "class Flow:\n",
    "    def __init__(self):\n",
    "        # self.parent_net = network\n",
    "        self.__create_flow__()\n",
    "        \n",
    "    def __generate_data__(self):\n",
    "        random_noise = torch.randn((1, 2), device = DEVICE)\n",
    "        generated_samples = GENERATOR(random_noise)\n",
    "        generated_samples = generated_samples.cpu().detach().numpy()\n",
    "        synthetic_dur, synthetic_size = generated_samples[0,0], generated_samples[0,1]\n",
    "        return synthetic_dur, synthetic_size\n",
    "        \n",
    "    def __create_flow__(self):\n",
    "        self.ID = str(uuid.uuid4())\n",
    "        # self.status = \"IDLE\"\n",
    "        self.dur, self.size = self.__generate_data__()\n",
    "        random_addresses = random.sample(ADDRESSES, 2)\n",
    "        self.src, self.dst = random_addresses[0], random_addresses[1]\n",
    "        self.current_node = self.src\n",
    "        self.prev_node = None\n",
    "        \n",
    "        # Calculate shortest path\n",
    "        self.route = NETWORK.find_route(self.src, self.dst)\n",
    "        \n",
    "        # Removes the first node in the route which is the starting node for the flow path \n",
    "        self.route = self.route[1:] \n",
    "        \n",
    "        # How long it will take to make each hop, used to schedule the next event time\n",
    "        self.hop_time = self.dur / len(self.route) \n",
    "\n",
    "        \n",
    "    def hop(self): # Pushes the flow into the network from src to dst/from one hop to the next\n",
    "        self.status = \"SENDING\"\n",
    "        self.prev_node = self.current_node \n",
    "        # print(f\"Sim Clock: {SIM_CLOCK} seconds | Flow {self.ID} is moving from node {self.current_node} to node {self.route[0]}.\")\n",
    "        self.current_node = self.route.pop(0)\n",
    "        \n",
    "        if len(self.route) == 0:\n",
    "            # print(f\"Flow {self.ID} has reached its destination, node {self.dst}. Now leaving the network...\")\n",
    "            next_event_type = \"DEPART\"\n",
    "        else:\n",
    "            next_event_type = \"HOP\"\n",
    "        \n",
    "        return next_event_type"
   ]
  },
  {
   "cell_type": "code",
   "execution_count": 210,
   "id": "2cd164a7",
   "metadata": {
    "tags": []
   },
   "outputs": [],
   "source": [
    "class Event:\n",
    "    def __init__(self, event_time, event_type, flow):\n",
    "        self.event_type = event_type\n",
    "        self.event_time = event_time\n",
    "        \n",
    "        # Link a flow to a particular event that occurs, whether it arrives, hops or departs\n",
    "        self.associated_flow = flow"
   ]
  },
  {
   "cell_type": "markdown",
   "id": "a0af8385-eb18-45e5-98ee-07a915bcafaa",
   "metadata": {},
   "source": [
    "## Functions"
   ]
  },
  {
   "cell_type": "code",
   "execution_count": 212,
   "id": "fdc52212",
   "metadata": {
    "tags": []
   },
   "outputs": [],
   "source": [
    "def schedule_event(event_time, event_type, associated_flow):\n",
    "    global EVENTS_LIST\n",
    "    \n",
    "    # Create new event\n",
    "    new_event = Event(event_time, event_type, associated_flow)\n",
    "    \n",
    "    # Create key with which the events list will be sorted; will be sorted by event time\n",
    "    time_key = operator.attrgetter(\"event_time\")\n",
    "    \n",
    "    # Inserts a new event into the Events list and maintains its sorted order\n",
    "    bisect.insort(EVENTS_LIST, new_event, key=time_key) \n"
   ]
  },
  {
   "cell_type": "code",
   "execution_count": 213,
   "id": "5b073f77",
   "metadata": {
    "tags": []
   },
   "outputs": [],
   "source": [
    "def initialise_simulation():\n",
    "    global SIM_CLOCK, GENERATOR, NETWORK, BLOCKED, SENT, EVENTS_LIST\n",
    "    \n",
    "    EVENTS_LIST = []\n",
    "    # Set simulation clock to 0\n",
    "    SIM_CLOCK = 0\n",
    "    # global sim_clock, generator, network, BLOCKED, SENT\n",
    "\n",
    "    # Initialise the generator\n",
    "    GENERATOR = Generator()\n",
    "    GENERATOR.load_state_dict(torch.load(PATH))\n",
    "    GENERATOR = GENERATOR.to(DEVICE)\n",
    "    \n",
    "    # Initialise the network\n",
    "    G = nx.read_adjlist(\"UKnet\", nodetype=int)\n",
    "    NETWORK = Network(G, WAVELENGTHS)\n",
    "    \n",
    "    # Initialise statistical counters\n",
    "    BLOCKED = 0\n",
    "    SENT = 0\n",
    "    \n",
    "    # Adds 50 initial events to the events list - they will all be marked as hops \n",
    "    for i in range(9000):\n",
    "        \n",
    "        # Generate new flow\n",
    "        new_flow = Flow()\n",
    "\n",
    "        # Create and schedule the event\n",
    "        schedule_event(event_time = i, event_type = \"ARRIVAL\", associated_flow = new_flow)\n"
   ]
  },
  {
   "cell_type": "code",
   "execution_count": 214,
   "id": "53dc2992",
   "metadata": {
    "tags": []
   },
   "outputs": [],
   "source": [
    "# Check the next event in the list and advance simulation clock\n",
    "def timing_routine():\n",
    "    global SIM_CLOCK\n",
    "    # Popping the next event from the top of the list\n",
    "    next_event = EVENTS_LIST.pop(0)\n",
    "    \n",
    "    # Accessing the time of the next scheduled event\n",
    "    advanced_time = next_event.event_time\n",
    "    \n",
    "    # Advancing the simulation clock to the time of the next scheduled event\n",
    "    SIM_CLOCK = advanced_time\n",
    "    \n",
    "    return next_event"
   ]
  },
  {
   "cell_type": "code",
   "execution_count": 215,
   "id": "48f4e1bc",
   "metadata": {
    "tags": []
   },
   "outputs": [],
   "source": [
    "def event_routine(event):\n",
    "    global SIM_CLOCK, NETWORK, SENT, BLOCKED\n",
    "\n",
    "    current_flow = event.associated_flow\n",
    "    \n",
    "    if event.event_type == \"ARRIVAL\" or event.event_type == \"HOP\":\n",
    "        \n",
    "        # Accessing the current node and next node in the flow path\n",
    "        src, dst = current_flow.current_node, current_flow.route[0]\n",
    "        \n",
    "        # Allow the network to push the flow to the next node\n",
    "        new_event_type, updated_flow = NETWORK.push_flow(current_flow, event.event_type, src, dst)\n",
    "        \n",
    "        if new_event_type != \"BLOCKED\": # if blocked, there's no new event to schedule and capacity in the previous link has been released.\n",
    "            schedule_event(SIM_CLOCK+current_flow.hop_time, new_event_type, associated_flow = updated_flow)\n",
    "        else:\n",
    "            BLOCKED += 1\n",
    "            \n",
    "        \n",
    "    else: # Departure event\n",
    "        prev, current = current_flow.prev_node, current_flow.current_node\n",
    "        \n",
    "        # Release the capacity from the last hop \n",
    "        NETWORK.end_flow(current_flow, prev, current)\n",
    "        \n",
    "        SENT += 1"
   ]
  },
  {
   "cell_type": "code",
   "execution_count": 216,
   "id": "23289eb7-c5c1-4dbb-92c0-52c3651b6e5b",
   "metadata": {
    "tags": []
   },
   "outputs": [],
   "source": [
    "def report():\n",
    "    blocked_flows = round(BLOCKED*100/(BLOCKED+SENT), 4)\n",
    "    sent_flows = 100 - blocked_flows\n",
    "    \n",
    "    print(f\"Total flows travelled through the network: {BLOCKED + SENT}\")\n",
    "    print(f\"{sent_flows} % of all flows arrived successfully to its destination, {SENT} flows\")\n",
    "    print(f\"{blocked_flows} % of all flows were blocked due to lack of capacity in a link, {BLOCKED} flows\")\n",
    "    "
   ]
  },
  {
   "cell_type": "code",
   "execution_count": 217,
   "id": "c521e7ae",
   "metadata": {
    "tags": []
   },
   "outputs": [],
   "source": [
    "def main():\n",
    "    print(\"Starting simulation...\")\n",
    "    initialise_simulation()\n",
    "    \n",
    "    start_time = time.time()\n",
    "    # Run simulation until a certain amount of flows have been sent across the network\n",
    "    while (SENT + BLOCKED) < MIN_FLOWS_SENT:\n",
    "        \n",
    "        next_event = timing_routine()\n",
    "        # invoke timing routine - checking what the next event is and advancing simulation clock to that time\n",
    "            # check the events list (I will be making the events list automatically sorted so that the next event time is at the front)\n",
    "            # might make an Event class to store what exactly is going to happen at that point in time that stores the flow:\n",
    "                # will it be an initial arrival, an intermediary hop, or a departure\n",
    "                # if arrival - just make new HOP event to move to the next node\n",
    "                # if hop - new event to move to the next node\n",
    "                # if departure - then no new events added, just update statistical counters\n",
    "    \n",
    "        # invoke event routine - update system state, statistical counters, generate future events, add future events to events list\n",
    "            # will invoke a specific function, either: arrival(), hop() or departure()\n",
    "            # checking the link capacity\n",
    "                # yes capacity - hops to next node\n",
    "                # no capacity - blocked\n",
    "            # add a new event of type arrival, hop or departure\n",
    "        \n",
    "    # compute and write report on estimates of interest\n",
    "        # how many flows were sent in total\n",
    "        # how many flows were blocked\n",
    "        # how many flows reached their destination\n",
    "    \n"
   ]
  },
  {
   "cell_type": "code",
   "execution_count": 218,
   "id": "2fc89800",
   "metadata": {
    "tags": []
   },
   "outputs": [],
   "source": [
    "# Main function for testing purposes\n",
    "def main2():\n",
    "    print(\"hello\")\n",
    "    print(\"Starting simulation...\")\n",
    "    initialise_simulation()\n",
    "    while EVENTS_LIST:\n",
    "        next_event = timing_routine()\n",
    "        event_routine(next_event)\n",
    "    report()\n"
   ]
  },
  {
   "cell_type": "code",
   "execution_count": 219,
   "id": "5a637fef",
   "metadata": {
    "tags": []
   },
   "outputs": [
    {
     "name": "stdout",
     "output_type": "stream",
     "text": [
      "hello\n",
      "Starting simulation...\n",
      "Total flows travelled through the network: 9000\n",
      "28.2222 % of all flows arrived successfully to its destination, 2540 flows\n",
      "71.7778 % of all flows were blocked due to lack of capacity in a link, 6460 flows\n",
      "{(1, 3): 40, (1, 2): 40, (1, 20): 40, (1, 4): 40, (1, 6): 40, (1, 8): 40, (1, 14): 40, (3, 2): 40, (3, 20): 40, (3, 19): 40, (2, 19): 40, (20, 9): 40, (20, 21): 40, (4, 19): 40, (4, 7): 40, (4, 6): 40, (4, 5): 40, (6, 5): 40, (6, 8): 40, (8, 7): 40, (8, 9): 40, (8, 10): 40, (14, 10): 40, (14, 15): 40, (7, 9): 40, (9, 21): 40, (9, 16): 40, (9, 15): 40, (9, 11): 40, (10, 11): 40, (10, 13): 40, (21, 16): 40, (16, 18): 40, (16, 17): 40, (15, 13): 40, (15, 17): 40, (11, 12): 40, (13, 12): 40, (17, 18): 40}\n",
      "\n",
      "0 links are over capacity\n",
      "The links are:\n"
     ]
    }
   ],
   "source": [
    "if __name__ == \"__main__\":\n",
    "    main2()\n",
    "    \n",
    "# NOTE: At the end of the simulation\n",
    "\n",
    "print(NETWORK.links)\n",
    "print()\n",
    "\n",
    "overcapacity = 0\n",
    "overcapacity_links = []\n",
    "for link in NETWORK.links:\n",
    "    if NETWORK.links[link] > 40:\n",
    "        overcapacity += 1\n",
    "        overcapacity_links.append(link)\n",
    "        \n",
    "print(f\"{overcapacity} links are over capacity\")\n",
    "print(\"The links are:\")\n",
    "for link in overcapacity_links:\n",
    "    print(link, end=\" \")\n"
   ]
  },
  {
   "cell_type": "code",
   "execution_count": null,
   "id": "3e2c14af-ccb2-4719-ba64-558f0a2a3ee9",
   "metadata": {},
   "outputs": [],
   "source": []
  }
 ],
 "metadata": {
  "kernelspec": {
   "display_name": "torch",
   "language": "python",
   "name": "torch"
  },
  "language_info": {
   "codemirror_mode": {
    "name": "ipython",
    "version": 3
   },
   "file_extension": ".py",
   "mimetype": "text/x-python",
   "name": "python",
   "nbconvert_exporter": "python",
   "pygments_lexer": "ipython3",
   "version": "3.10.13"
  }
 },
 "nbformat": 4,
 "nbformat_minor": 5
}
