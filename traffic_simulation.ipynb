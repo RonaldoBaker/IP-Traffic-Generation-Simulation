{
 "cells": [
  {
   "cell_type": "markdown",
   "id": "702494fa",
   "metadata": {},
   "source": [
    "**NOTE (09/02/24):** Just trying to put together the body of the simulation to make it work. Aiming to use Averill and Law's architecture of what a simulation looks like. "
   ]
  },
  {
   "cell_type": "markdown",
   "id": "4f0f7313",
   "metadata": {},
   "source": [
    "## Import dependencies"
   ]
  },
  {
   "cell_type": "code",
   "execution_count": 2,
   "id": "9e40f79d",
   "metadata": {
    "tags": []
   },
   "outputs": [],
   "source": [
    "import networkx as nx\n",
    "import torch\n",
    "import torch.nn as nn\n",
    "import random\n",
    "import uuid\n",
    "import bisect\n",
    "import operator"
   ]
  },
  {
   "cell_type": "markdown",
   "id": "27076846",
   "metadata": {},
   "source": [
    "## Constants and containers"
   ]
  },
  {
   "cell_type": "code",
   "execution_count": 3,
   "id": "6e7ab6eb",
   "metadata": {
    "tags": []
   },
   "outputs": [],
   "source": [
    "DEVICE = torch.device(\"cuda\" if torch.cuda.is_available() else \"cpu\")\n",
    "PATH = \"generator_2.pt\"\n",
    "RANDOM_SEED = 77\n",
    "ADDRESSES = [i for i in range(1,22)]\n",
    "BLOCKED = 0 # count of flows blocked\n",
    "SENT = 0 # count of flows that reached their destination\n",
    "WAVELENGTHS = 40\n",
    "MIN_FLOWS_SENT = 1e7\n",
    "\n",
    "completed_flows = []\n",
    "blocked_flows = []\n",
    "events_list = []"
   ]
  },
  {
   "cell_type": "markdown",
   "id": "ef3fcd5e",
   "metadata": {},
   "source": [
    "## Classes"
   ]
  },
  {
   "cell_type": "code",
   "execution_count": 4,
   "id": "55787249",
   "metadata": {
    "tags": []
   },
   "outputs": [],
   "source": [
    "class Generator(nn.Module):\n",
    "    def __init__(self):\n",
    "        super().__init__()\n",
    "        self.model = nn.Sequential(\n",
    "            nn.Linear(2, 16),\n",
    "            nn.ReLU(),\n",
    "            nn.Linear(16, 32),\n",
    "            nn.ReLU(),\n",
    "            nn.Linear(32, 2),\n",
    "        )\n",
    "\n",
    "    def forward(self, x):\n",
    "        output = self.model(x)\n",
    "        return output"
   ]
  },
  {
   "cell_type": "code",
   "execution_count": 5,
   "id": "ebe92ea8",
   "metadata": {
    "tags": []
   },
   "outputs": [],
   "source": [
    "class Network:\n",
    "    def __init__(self, graph, num_of_wavelengths):\n",
    "        self.topology = graph\n",
    "        self.__allocate_capacity__(num_of_wavelengths)\n",
    "    \n",
    "    def __allocate_capacity__(self, num_of_wavelengths):\n",
    "        self.links = dict()\n",
    "        for edge in self.topology.edges():\n",
    "            node1, node2 = edge[0], edge[1] \n",
    "            self.links[(node1, node2)] = num_of_wavelengths # updating the weight of each edge, using that to denote the capacity of each link\n",
    "            # self.links[(node2, node1)] # may be necessary but not sure at this point\n",
    "          \n",
    "    def check_capacity(self, node1, node2): \n",
    "        # NOTE: Need to add some exception handling because the node pair for the next hop may not correspond with the dictionary of links\n",
    "        # instead will try it in the correct order, else just switch the arguments around\n",
    "        try:\n",
    "            return self.links[(node1, node2)] > 0\n",
    "        except KeyError:\n",
    "            return self.links[(node2, node1)] > 0\n",
    "        \n",
    "       #     if self.links[(node1, node2)] > 0:\n",
    "       #         return True\n",
    "       #     else:\n",
    "       #         return False\n",
    "       # except KeyError:\n",
    "       #     if self.link[(node2, node1)] > 0:\n",
    "       #         return True\n",
    "       #     else:\n",
    "       #         return\n",
    "    \n",
    "    def use_capacity(self, node1, node2):\n",
    "        try: \n",
    "            self.links[(node1, node2)] -= 1\n",
    "        except KeyError:\n",
    "            self.links[(node2, node1)] -= 1\n",
    "        # the capacity is going to be used for a finite amount of time\n",
    "        # If i am assuming that the nodes are evenly spread then I can take the duration of the flow then divide by the amount of hops that it needs to take to get to its destination\n",
    "        # and that can be the time it takes to move from each node. \n",
    "    \n",
    "    def release_capacity(self, node1, node2):\n",
    "        try:   \n",
    "            self.links[(node1, node2)] += 1\n",
    "        except KeyError: \n",
    "            self.links[(node2, node1)] += 1\n",
    "        \n",
    "        \n",
    "    def push_flow(self, flow, node1, node2):\n",
    "        sufficient_capacity = self.check_capacity(node1, node2)\n",
    "        if sufficient_capacity:\n",
    "            self.use_capacity(node1, node2)\n",
    "            next_event_type = flow.hop()\n",
    "            return next_event_type, flow \n",
    "            # change the flow attribute to mark which node the flow is at currently\n",
    "        else:\n",
    "            # print out that Flow ID# has been blocked\n",
    "            BLOCKED += 1\n",
    "            \n",
    "    def find_route(self, src, dst):\n",
    "        return nx.shortest_path(self.topology, source = src, target = dst)\n",
    "    "
   ]
  },
  {
   "cell_type": "code",
   "execution_count": 34,
   "id": "f8537a11",
   "metadata": {
    "tags": []
   },
   "outputs": [],
   "source": [
    "class Flow:\n",
    "    def __init__(self, network):\n",
    "        # self.parent_net = network\n",
    "        self.__create_flow__(network)\n",
    "        \n",
    "    def __generate_data__(self):\n",
    "        random_noise = torch.randn((1, 2), device = DEVICE)\n",
    "        generated_samples = generator(random_noise)\n",
    "        generated_samples = generated_samples.cpu().detach().numpy()\n",
    "        synthetic_dur, synthetic_size = generated_samples[0,0], generated_samples[0,1]\n",
    "        return synthetic_dur, synthetic_size\n",
    "        \n",
    "    def __create_flow__(self, network):\n",
    "        self.ID = str(uuid.uuid4())\n",
    "        self.status = \"IDLE\"\n",
    "        self.dur, self.size = self.__generate_data__()\n",
    "        random_addresses = random.sample(ADDRESSES, 2)\n",
    "        self.src, self.dst = random_addresses[0], random_addresses[1]\n",
    "        self.current_node = self.src\n",
    "        self.prev_node = None\n",
    "        \n",
    "        # Calculate shortest path\n",
    "        self.route = network.find_route(self.src, self.dst)\n",
    "        # Removes the first node in the route which is the starting node for the flow path \n",
    "        self.route = self.route[1:] \n",
    "        print(self.route)\n",
    "        print(self.src)\n",
    "        \n",
    "        # How long it will take to make each hop, used to schedule the next event time\n",
    "        self.hop_time = self.dur / len(self.route) \n",
    "\n",
    "        \n",
    "    def hop(self): # Pushes the flow into the network from src to dst/from one hop to the next\n",
    "        self.status = \"SENDING\"\n",
    "        self.prev_node = self.current_node \n",
    "        print(f\"Sim Clock: {sim_clock} seconds | Flow {self.ID} is moving to node {self.route[0]}.\")\n",
    "        # time.sleep(self.hop_time)\n",
    "        self.current_node = self.route.pop(0)\n",
    "        \n",
    "        if len(self.route) == 0:\n",
    "            print(f\"Flow {self.ID} has reached its destination, node {self.dst}. Now leaving the network...\")\n",
    "            next_event_type = \"DEPART\"\n",
    "        else:\n",
    "            next_event_type = \"HOP\"\n",
    "        \n",
    "        return next_event_type\n",
    "    \n",
    "        #if len(self.route) > 1: # it's going to hop to next node\n",
    "        #    self.prev_node = self.current_node\n",
    "        #    \n",
    "        #    print(f\"Flow {self.ID} is moving to node {self.route[0]}.\")\n",
    "   # \n",
    "    #        # NOTE: should I use time.sleep(self.hop_time) here ???\n",
    "     #       time.sleep(self.hop_time)\n",
    "      #      \n",
    "       #     self.current_node = self.route.pop(0) # removing the next node \n",
    "      #      return \"hop\" # next event to schedule\n",
    "      #  elif len(self.route) == 1: # it is going to reach its destination with this hop\n",
    "      #      self.p\n",
    "      #      return \"depart\"\n",
    "      #      \n",
    "      #  if self.current_node != self.route[0]: # move onto the next node\n",
    "\n",
    "            \n",
    "        # need to check the next\n",
    "        \"\"\"\n",
    "        Start a timer that lasts for the flow duration\n",
    "        \n",
    "        \"\"\"\n",
    "        \n",
    "    def depart(self): # The flow is now exiting the network\n",
    "        self.status = \"SENT\"\n",
    "        \n",
    "        \n",
    "        "
   ]
  },
  {
   "cell_type": "code",
   "execution_count": 7,
   "id": "2cd164a7",
   "metadata": {
    "tags": []
   },
   "outputs": [],
   "source": [
    "class Event:\n",
    "    def __init__(self, event_time, event_type, flow):\n",
    "        self.event_type = event_type\n",
    "        self.event_time = event_time\n",
    "        # Link a flow to a particular event that occurs, whether it arrives, hops or departs\n",
    "        self.associated_flow = flow\n",
    "        # self.event_duration = 0\n",
    "\n",
    "    "
   ]
  },
  {
   "cell_type": "markdown",
   "id": "b34dd338",
   "metadata": {},
   "source": [
    "Need to create:\n",
    "* Initialisation routine\n",
    "* Timing routine - determines the next events & advances simulation clock\n",
    "* Library routine - generate the random variates (using the traffic generator)\n",
    "* Event routine - update system state and statistical counters, & generate future events and add to event list which includes:\n",
    "    * if its an arrival, calculating the route for the flow, checking the capacity for the next hop, if there is enough capacity then it moves, if not then the flow is blocked = update blocked counter \n",
    "    * if its a departure, release the capacity back to the link, if its reached destination then updated completed counter\n",
    "    * use generator to create a new flow with size and duration and also include the IAT time for the flow to add to the event list\n",
    "    \n"
   ]
  },
  {
   "cell_type": "code",
   "execution_count": 8,
   "id": "fdc52212",
   "metadata": {
    "tags": []
   },
   "outputs": [],
   "source": [
    "def schedule_event(event_time, event_type, associated_flow):\n",
    "    \n",
    "    # Create new event\n",
    "    new_event = Event(event_time, event_type, associated_flow)\n",
    "    \n",
    "    # Create key with which the events list will be sorted; will be sorted by event time\n",
    "    time_key = operator.attrgetter(\"event_time\")\n",
    "    \n",
    "    # Inserts a new event into the Events list and maintains its sorted order\n",
    "    bisect.insort(events_list, new_event, key=time_key) \n",
    "    "
   ]
  },
  {
   "cell_type": "code",
   "execution_count": 9,
   "id": "5b073f77",
   "metadata": {
    "tags": []
   },
   "outputs": [],
   "source": [
    "def initialise_simulation():\n",
    "    # Set simulation clock to 0\n",
    "    global sim_clock, generator, network, BLOCKED, SENT\n",
    "    \n",
    "    sim_clock = 0\n",
    "    \n",
    "    # initialise the generator\n",
    "    #global generator\n",
    "    generator = Generator()\n",
    "    generator.load_state_dict(torch.load(PATH))\n",
    "    generator = generator.to(DEVICE)\n",
    "    \n",
    "    # initialise the network\n",
    "    G = nx.read_adjlist(\"UKnet\", nodetype=int)\n",
    "    # global network\n",
    "    network = Network(G, WAVELENGTHS)\n",
    "    \n",
    "    # initialise statistical counters\n",
    "    #global BLOCKED\n",
    "    BLOCKED = 0\n",
    "    #global SENT\n",
    "    SENT = 0\n",
    "    \n",
    "    \n",
    "    \n",
    "    # Adds 50 initial events to the events list - they will all be marked as hops \n",
    "    for i in range(1):\n",
    "        \n",
    "        # Generate new flow\n",
    "        new_flow = Flow(network)\n",
    "\n",
    "        # Create and schedule the event\n",
    "        schedule_event(event_time = i, event_type = \"ARRIVAL\", associated_flow = new_flow)\n",
    "    "
   ]
  },
  {
   "cell_type": "code",
   "execution_count": 10,
   "id": "53dc2992",
   "metadata": {
    "tags": []
   },
   "outputs": [],
   "source": [
    "# Check the next event in the list and advance simulation clock\n",
    "def timing_routine():\n",
    "    # Popping the next event from the top of the list\n",
    "    next_event = events_list.pop(0)\n",
    "    \n",
    "    # Accessing the time of the next scheduled event\n",
    "    advanced_time = next_event.event_time\n",
    "    \n",
    "    # Advancing the simulation clock to the time of the next scheduled event\n",
    "    global sim_clock\n",
    "    sim_clock = advanced_time\n",
    "    \n",
    "    return next_event\n"
   ]
  },
  {
   "cell_type": "code",
   "execution_count": 49,
   "id": "48f4e1bc",
   "metadata": {
    "tags": []
   },
   "outputs": [],
   "source": [
    "def event_routine(event):\n",
    "    global network\n",
    "    global sim_clock\n",
    "    global events_list\n",
    "    global SENT\n",
    "    current_flow = event.associated_flow\n",
    "    if event.event_type == \"ARRIVAL\" or event.event_type == \"HOP\":\n",
    "        \n",
    "        # Accessing the current node and next node in the flow path\n",
    "        src, dst = current_flow.current_node, current_flow.route[0]\n",
    "        \n",
    "        if event.event_type == \"HOP\": # It has hopped before, and needs to release the capacity from the previous link\n",
    "            network.release_capacity(current_flow.prev_node, current_flow.current_node)\n",
    "        \n",
    "        # Allow the network to push the flow to the next node\n",
    "        new_event_type, updated_flow = network.push_flow(current_flow, src, dst)\n",
    "        \n",
    "        schedule_event(sim_clock+current_flow.hop_time, new_event_type, associated_flow = updated_flow)\n",
    "            \n",
    "    else: # It's a departure event\n",
    "        # Release the capacity from the last hop\n",
    "        network.release_capacity(current_flow.prev_node, current_flow.current_node)\n",
    "        SENT += 1\n",
    "        "
   ]
  },
  {
   "cell_type": "markdown",
   "id": "f8d78fe9",
   "metadata": {},
   "source": [
    "new_flow = Flow()\n",
    "print(f\"Flow size: {new_flow.size} bytes\\nFlow Duration: {new_flow.dur} milliseconds\\nSource address: {new_flow.src}\\nDestination address: {new_flow.dst}\\nCurrent status: {new_flow.status}\")\n",
    "new_flow.push()\n",
    "print(new_flow.status)\n"
   ]
  },
  {
   "cell_type": "code",
   "execution_count": 13,
   "id": "c521e7ae",
   "metadata": {
    "tags": []
   },
   "outputs": [],
   "source": [
    "def main():\n",
    "    \n",
    "    # pass\n",
    "    initialise_simulation()\n",
    "    # invoke initialisation routine\n",
    "        # sim clock = 0\n",
    "        # initialise the network\n",
    "        # initialise the statistical counters\n",
    "        # initialise the event list\n",
    "    \n",
    "    \n",
    "    # Run simulation until a certain amount of flows have been sent across the network\n",
    "    while (SENT + BLOCKED) < MIN_FLOWS_SENT:\n",
    "        \n",
    "        next_event = timing_routine()\n",
    "        \n",
    "    \n",
    "        # invoke timing routine - checking what the next event is and advancing simulation clock to that time\n",
    "            # check the events list (I will be making the events list automatically sorted so that the next event time is at the front)\n",
    "            # might make an Event class to store what exactly is going to happen at that point in time that stores the flow:\n",
    "                # will it be an initial arrival, an intermediary hop, or a departure\n",
    "                # if arrival - just make new HOP event to move to the next node\n",
    "                # if hop - new event to move to the next node\n",
    "                # if departure - then no new events added, just update statistical counters\n",
    "    \n",
    "        # invoke event routine - update system state, statistical counters, generate future events, add future events to events list\n",
    "            # will invoke a specific function, either: arrival(), hop() or departure()\n",
    "            # checking the link capacity\n",
    "                # yes capacity - hops to next node\n",
    "                # no capacity - blocked\n",
    "            # add a new event of type arrival, hop or departure\n",
    "        \n",
    "    # compute and write report on estimates of interest\n",
    "        # how many flows were sent in total\n",
    "        # how many flows were blocked\n",
    "        # how many flows reached their destination\n",
    "    \n"
   ]
  },
  {
   "cell_type": "code",
   "execution_count": 42,
   "id": "2fc89800",
   "metadata": {
    "tags": []
   },
   "outputs": [],
   "source": [
    "# Main function for testing purposes\n",
    "def main2():\n",
    "    print(\"hello\")\n",
    "    initialise_simulation()\n",
    "    while events_list:\n",
    "        next_event = timing_routine()\n",
    "        event_routine(next_event)\n",
    "    print(f\"Total flows travelled through the network: {BLOCKED + SENT}\")\n",
    "    print(f\"Total flows successfully sent to its destination: {SENT}\")\n",
    "    print(f\"Total flows blocked: {BLOCKED}\")"
   ]
  },
  {
   "cell_type": "code",
   "execution_count": 50,
   "id": "5a637fef",
   "metadata": {
    "tags": []
   },
   "outputs": [
    {
     "name": "stdout",
     "output_type": "stream",
     "text": [
      "hello\n",
      "[20, 3]\n",
      "9\n",
      "Sim Clock: 0 seconds | Flow 7056c445-590d-4d77-89fe-5ac8f9f27117 is moving to node 20.\n",
      "Sim Clock: 2062.2294921875 seconds | Flow 7056c445-590d-4d77-89fe-5ac8f9f27117 is moving to node 3.\n",
      "Flow 7056c445-590d-4d77-89fe-5ac8f9f27117 has reached its destination, node 3. Now leaving the network...\n",
      "Total flows travelled through the network: 1\n",
      "Total flows successfully sent to its destination: 1\n",
      "Total flows blocked: 0\n"
     ]
    }
   ],
   "source": [
    "if __name__ == \"__main__\":\n",
    "    main2()"
   ]
  },
  {
   "cell_type": "code",
   "execution_count": 36,
   "id": "f312f40d",
   "metadata": {
    "tags": []
   },
   "outputs": [],
   "source": [
    "for event in events_list:\n",
    "    print(event.associated_flow.ID)"
   ]
  },
  {
   "cell_type": "code",
   "execution_count": 41,
   "id": "5c978dc6",
   "metadata": {
    "tags": []
   },
   "outputs": [
    {
     "name": "stdout",
     "output_type": "stream",
     "text": [
      "{(1, 3): 40, (1, 2): 40, (1, 20): 40, (1, 4): 40, (1, 6): 40, (1, 8): 40, (1, 14): 40, (3, 2): 40, (3, 20): 40, (3, 19): 40, (2, 19): 40, (20, 9): 40, (20, 21): 40, (4, 19): 40, (4, 7): 40, (4, 6): 40, (4, 5): 40, (6, 5): 40, (6, 8): 40, (8, 7): 40, (8, 9): 40, (8, 10): 40, (14, 10): 40, (14, 15): 40, (7, 9): 39, (9, 21): 40, (9, 16): 40, (9, 15): 40, (9, 11): 40, (10, 11): 40, (10, 13): 40, (21, 16): 40, (16, 18): 40, (16, 17): 40, (15, 13): 40, (15, 17): 40, (11, 12): 40, (13, 12): 40, (17, 18): 40}\n"
     ]
    }
   ],
   "source": [
    "print(network.links)"
   ]
  },
  {
   "cell_type": "code",
   "execution_count": null,
   "id": "32584c32-df24-4d84-bd31-84f93738585f",
   "metadata": {},
   "outputs": [],
   "source": []
  }
 ],
 "metadata": {
  "kernelspec": {
   "display_name": "torch",
   "language": "python",
   "name": "torch"
  },
  "language_info": {
   "codemirror_mode": {
    "name": "ipython",
    "version": 3
   },
   "file_extension": ".py",
   "mimetype": "text/x-python",
   "name": "python",
   "nbconvert_exporter": "python",
   "pygments_lexer": "ipython3",
   "version": "3.10.13"
  }
 },
 "nbformat": 4,
 "nbformat_minor": 5
}
